{
 "cells": [
  {
   "cell_type": "code",
   "execution_count": 21,
   "metadata": {
    "collapsed": false
   },
   "outputs": [
    {
     "name": "stdout",
     "output_type": "stream",
     "text": [
      "Arbitrary  Starting V:  [ 0.  0.  0.  0.  0.  0.]\n",
      "Randomized Starting Pi:  [ 1 -1 -1  1 -1 -1]\n",
      "V: [ 0.    1.    0.1   0.01  5.    0.5 ]\n",
      "V: [ 0.1    1.01   0.101  0.5    5.05   0.505]\n",
      "V: [ 0.101    1.0101   0.10101  0.505    5.0505   0.50505]\n",
      "Final V:  [ 0.101    1.0101   0.10101  0.505    5.0505   0.50505]\n",
      "Optimized Pi:  [ 1 -1 -1  1  1 -1]\n"
     ]
    }
   ],
   "source": [
    "import numpy as np\n",
    "\n",
    "def nextState(s,a):\n",
    "    return max(0,min(s+a, n-1))\n",
    "\n",
    "def q(s,an):\n",
    "    s1 = nextState(s, actions[an])\n",
    "    return R[s,an]+gama*V[s1]\n",
    "\n",
    "\n",
    "# Defining MDP\n",
    "n = 6\n",
    "actions = [-1,1]\n",
    "R = np.zeros([6,2])\n",
    "R[1,0] = 1\n",
    "R[4,1] = 5\n",
    "gama = 0.1\n",
    "#gama = 0.3\n",
    "#gama = 0.6\n",
    "\n",
    "#Parameters\n",
    "theta = 0.01\n",
    "\n",
    "\n",
    "V = np.zeros(n)\n",
    "Pi=  np.random.choice(actions, n)\n",
    "\n",
    "print(\"Arbitrary  Starting V: \",V)\n",
    "print(\"Randomized Starting Pi: \", Pi)\n",
    "\n",
    "converged = False\n",
    "\n",
    "while not converged:\n",
    "    delta = 0\n",
    "    for s in range(0,n):\n",
    "        v = V[s]\n",
    "        V[s] = max(q(s,0), q(s,1))\n",
    "        delta = max(delta, abs(V[s]-v))\n",
    "    converged = delta<theta\n",
    "    print(\"V:\", V)\n",
    "\n",
    "print(\"Final V: \", V)\n",
    "\n",
    "for s in range(0,n):\n",
    "    Pi[s] = actions[0] if q(s,0) > q(s,1) else actions[1]\n",
    "    \n",
    "print(\"Optimized Pi: \",Pi)\n",
    "\n",
    "\n",
    "\n"
   ]
  },
  {
   "cell_type": "code",
   "execution_count": null,
   "metadata": {
    "collapsed": true
   },
   "outputs": [],
   "source": []
  }
 ],
 "metadata": {
  "kernelspec": {
   "display_name": "Python 3",
   "language": "python",
   "name": "python3"
  },
  "language_info": {
   "codemirror_mode": {
    "name": "ipython",
    "version": 3
   },
   "file_extension": ".py",
   "mimetype": "text/x-python",
   "name": "python",
   "nbconvert_exporter": "python",
   "pygments_lexer": "ipython3",
   "version": "3.6.0"
  }
 },
 "nbformat": 4,
 "nbformat_minor": 2
}
